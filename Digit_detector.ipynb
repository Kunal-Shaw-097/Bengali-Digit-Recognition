{
 "cells": [
  {
   "cell_type": "code",
   "execution_count": 1,
   "id": "6e1d389d",
   "metadata": {},
   "outputs": [],
   "source": [
    "import tensorflow as tf\n",
    "import tensorflow.keras.layers as tfl\n",
    "import pandas as pd\n",
    "import matplotlib.pyplot as plt\n",
    "import numpy as np\n",
    "from PIL import Image,ImageOps\n",
    "import os\n",
    "from sklearn.model_selection import train_test_split"
   ]
  },
  {
   "cell_type": "code",
   "execution_count": 2,
   "id": "d3860d86",
   "metadata": {},
   "outputs": [],
   "source": [
    "labels = pd.read_excel('labels.xls', header=None, names=['digit_name', 'label'])"
   ]
  },
  {
   "cell_type": "code",
   "execution_count": 3,
   "id": "bb3a3c74",
   "metadata": {},
   "outputs": [
    {
     "data": {
      "text/html": [
       "<div>\n",
       "<style scoped>\n",
       "    .dataframe tbody tr th:only-of-type {\n",
       "        vertical-align: middle;\n",
       "    }\n",
       "\n",
       "    .dataframe tbody tr th {\n",
       "        vertical-align: top;\n",
       "    }\n",
       "\n",
       "    .dataframe thead th {\n",
       "        text-align: right;\n",
       "    }\n",
       "</style>\n",
       "<table border=\"1\" class=\"dataframe\">\n",
       "  <thead>\n",
       "    <tr style=\"text-align: right;\">\n",
       "      <th></th>\n",
       "      <th>digit_name</th>\n",
       "      <th>label</th>\n",
       "    </tr>\n",
       "  </thead>\n",
       "  <tbody>\n",
       "    <tr>\n",
       "      <th>0</th>\n",
       "      <td>digit_0</td>\n",
       "      <td>1</td>\n",
       "    </tr>\n",
       "    <tr>\n",
       "      <th>1</th>\n",
       "      <td>digit_1</td>\n",
       "      <td>4</td>\n",
       "    </tr>\n",
       "    <tr>\n",
       "      <th>2</th>\n",
       "      <td>digit_2</td>\n",
       "      <td>2</td>\n",
       "    </tr>\n",
       "    <tr>\n",
       "      <th>3</th>\n",
       "      <td>digit_3</td>\n",
       "      <td>3</td>\n",
       "    </tr>\n",
       "    <tr>\n",
       "      <th>4</th>\n",
       "      <td>digit_4</td>\n",
       "      <td>1</td>\n",
       "    </tr>\n",
       "    <tr>\n",
       "      <th>...</th>\n",
       "      <td>...</td>\n",
       "      <td>...</td>\n",
       "    </tr>\n",
       "    <tr>\n",
       "      <th>1388</th>\n",
       "      <td>digit_1542</td>\n",
       "      <td>0</td>\n",
       "    </tr>\n",
       "    <tr>\n",
       "      <th>1389</th>\n",
       "      <td>digit_1544</td>\n",
       "      <td>5</td>\n",
       "    </tr>\n",
       "    <tr>\n",
       "      <th>1390</th>\n",
       "      <td>digit_1545</td>\n",
       "      <td>0</td>\n",
       "    </tr>\n",
       "    <tr>\n",
       "      <th>1391</th>\n",
       "      <td>digit_1546</td>\n",
       "      <td>3</td>\n",
       "    </tr>\n",
       "    <tr>\n",
       "      <th>1392</th>\n",
       "      <td>digit_1547</td>\n",
       "      <td>0</td>\n",
       "    </tr>\n",
       "  </tbody>\n",
       "</table>\n",
       "<p>1393 rows × 2 columns</p>\n",
       "</div>"
      ],
      "text/plain": [
       "      digit_name  label\n",
       "0        digit_0      1\n",
       "1        digit_1      4\n",
       "2        digit_2      2\n",
       "3        digit_3      3\n",
       "4        digit_4      1\n",
       "...          ...    ...\n",
       "1388  digit_1542      0\n",
       "1389  digit_1544      5\n",
       "1390  digit_1545      0\n",
       "1391  digit_1546      3\n",
       "1392  digit_1547      0\n",
       "\n",
       "[1393 rows x 2 columns]"
      ]
     },
     "execution_count": 3,
     "metadata": {},
     "output_type": "execute_result"
    }
   ],
   "source": [
    "labels"
   ]
  },
  {
   "cell_type": "code",
   "execution_count": 4,
   "id": "18c43115",
   "metadata": {},
   "outputs": [
    {
     "data": {
      "text/plain": [
       "<AxesSubplot:>"
      ]
     },
     "execution_count": 4,
     "metadata": {},
     "output_type": "execute_result"
    },
    {
     "data": {
      "image/png": "[encoded data removed]",
      "text/plain": [
       "<Figure size 432x288 with 1 Axes>"
      ]
     },
     "metadata": {
      "needs_background": "light"
     },
     "output_type": "display_data"
    }
   ],
   "source": [
    "labels['label'].hist()"
   ]
  },
  {
   "cell_type": "code",
   "execution_count": 5,
   "id": "fd9bdca8",
   "metadata": {},
   "outputs": [],
   "source": [
    "images=[]\n",
    "for i in range(1,3):\n",
    "    for file in sorted(os.listdir('archive/BDRW_train_'+str(i)),key=lambda s : int(s.split('_')[-1].split('.')[0])):    \n",
    "         if file.endswith('.jpg'):\n",
    "            img=Image.open(os.path.join('archive/BDRW_train_'+str(i),file),)\n",
    "            img=img.resize((48,48))\n",
    "            img=np.array(img)\n",
    "            images.append(img)"
   ]
  },
  {
   "cell_type": "code",
   "execution_count": 6,
   "id": "a74f5ebf",
   "metadata": {
    "scrolled": true
   },
   "outputs": [],
   "source": [
    "images=np.array(images)\n",
    "train=images/255"
   ]
  },
  {
   "cell_type": "code",
   "execution_count": 7,
   "id": "5ec18f16",
   "metadata": {},
   "outputs": [],
   "source": [
    "labels=np.array(labels['label'])"
   ]
  },
  {
   "cell_type": "code",
   "execution_count": 18,
   "id": "18a2ee2f",
   "metadata": {},
   "outputs": [],
   "source": [
    "def create_model():\n",
    "    inputs=tf.keras.Input(shape=(48,48,3))\n",
    "    x=tfl.Conv2D(filters=64,kernel_size=3,strides=1,padding='same')(inputs)\n",
    "    x=tfl.Conv2D(filters=64,kernel_size=3,strides=1,padding='same')(x)\n",
    "    x=tfl.MaxPooling2D(pool_size=2,strides=2,padding='valid')(x)\n",
    "    x=tfl.BatchNormalization()(x,training=True)\n",
    "    x=tfl.Conv2D(filters=128,kernel_size=3,strides=1,padding='same')(x)\n",
    "    x=tfl.Conv2D(filters=128,kernel_size=3,strides=1,padding='same')(x)\n",
    "    x=tfl.Dropout(0.1)(x)\n",
    "    x=tfl.MaxPooling2D(pool_size=2,strides=2,padding='valid')(x)\n",
    "    x=tfl.BatchNormalization()(x,training=True)\n",
    "    x=tfl.Conv2D(filters=256,kernel_size=3,strides=1,padding='same')(x)\n",
    "    x=tfl.Conv2D(filters=256,kernel_size=3,strides=1,padding='same')(x)\n",
    "    x=tfl.Dropout(0.15)(x)\n",
    "    x=tfl.MaxPooling2D(pool_size=2,strides=2,padding='valid')(x)\n",
    "    x=tfl.BatchNormalization()(x,training=True)\n",
    "    x=tfl.Flatten()(x)\n",
    "    x=tfl.Dense(32,activation='relu',kernel_initializer='glorot_uniform')(x)\n",
    "    x=tfl.Dense(10,activation='softmax')(x)\n",
    "    model=tf.keras.Model(inputs=inputs,outputs=x)\n",
    "    return model"
   ]
  },
  {
   "cell_type": "code",
   "execution_count": 19,
   "id": "07baafd2",
   "metadata": {},
   "outputs": [
    {
     "name": "stdout",
     "output_type": "stream",
     "text": [
      "Model: \"model_1\"\n",
      "_________________________________________________________________\n",
      " Layer (type)                Output Shape              Param #   \n",
      "=================================================================\n",
      " input_3 (InputLayer)        [(None, 48, 48, 3)]       0         \n",
      "                                                                 \n",
      " conv2d_10 (Conv2D)          (None, 48, 48, 64)        1792      \n",
      "                                                                 \n",
      " conv2d_11 (Conv2D)          (None, 48, 48, 64)        36928     \n",
      "                                                                 \n",
      " max_pooling2d_5 (MaxPooling  (None, 24, 24, 64)       0         \n",
      " 2D)                                                             \n",
      "                                                                 \n",
      " batch_normalization_4 (Batc  (None, 24, 24, 64)       256       \n",
      " hNormalization)                                                 \n",
      "                                                                 \n",
      " conv2d_12 (Conv2D)          (None, 24, 24, 128)       73856     \n",
      "                                                                 \n",
      " conv2d_13 (Conv2D)          (None, 24, 24, 128)       147584    \n",
      "                                                                 \n",
      " dropout_1 (Dropout)         (None, 24, 24, 128)       0         \n",
      "                                                                 \n",
      " max_pooling2d_6 (MaxPooling  (None, 12, 12, 128)      0         \n",
      " 2D)                                                             \n",
      "                                                                 \n",
      " batch_normalization_5 (Batc  (None, 12, 12, 128)      512       \n",
      " hNormalization)                                                 \n",
      "                                                                 \n",
      " conv2d_14 (Conv2D)          (None, 12, 12, 256)       295168    \n",
      "                                                                 \n",
      " conv2d_15 (Conv2D)          (None, 12, 12, 256)       590080    \n",
      "                                                                 \n",
      " dropout_2 (Dropout)         (None, 12, 12, 256)       0         \n",
      "                                                                 \n",
      " max_pooling2d_7 (MaxPooling  (None, 6, 6, 256)        0         \n",
      " 2D)                                                             \n",
      "                                                                 \n",
      " batch_normalization_6 (Batc  (None, 6, 6, 256)        1024      \n",
      " hNormalization)                                                 \n",
      "                                                                 \n",
      " flatten_1 (Flatten)         (None, 9216)              0         \n",
      "                                                                 \n",
      " dense_2 (Dense)             (None, 32)                294944    \n",
      "                                                                 \n",
      " dense_3 (Dense)             (None, 10)                330       \n",
      "                                                                 \n",
      "=================================================================\n",
      "Total params: 1,442,474\n",
      "Trainable params: 1,441,578\n",
      "Non-trainable params: 896\n",
      "_________________________________________________________________\n"
     ]
    }
   ],
   "source": [
    "model_1=create_model()\n",
    "model_1.summary()"
   ]
  },
  {
   "cell_type": "code",
   "execution_count": 20,
   "id": "3a2e8941",
   "metadata": {},
   "outputs": [],
   "source": [
    "X_train,X_test,Y_train,Y_test=train_test_split(train,labels,test_size=0.25,random_state=1)"
   ]
  },
  {
   "cell_type": "code",
   "execution_count": 21,
   "id": "d44c94be",
   "metadata": {},
   "outputs": [],
   "source": [
    "def hot_encode(a):\n",
    "    b = np.zeros((a.size, a.max() + 1))\n",
    "    b[np.arange(a.size), a] = 1\n",
    "    return b"
   ]
  },
  {
   "cell_type": "code",
   "execution_count": 22,
   "id": "de13bc1c",
   "metadata": {},
   "outputs": [],
   "source": [
    "Y_train=hot_encode(Y_train)\n",
    "Y_test=hot_encode(Y_test)"
   ]
  },
  {
   "cell_type": "code",
   "execution_count": 23,
   "id": "022b1695",
   "metadata": {},
   "outputs": [],
   "source": [
    "model_1.compile(optimizer=tf.keras.optimizers.Adam(\n",
    "    learning_rate=0.00025,\n",
    "    beta_1=0.9,\n",
    "    beta_2=0.999,\n",
    "    epsilon=1e-07,\n",
    "    amsgrad=False,\n",
    "    name='Adam'),loss=tf.keras.losses.CategoricalCrossentropy(),metrics=['accuracy'])"
   ]
  },
  {
   "cell_type": "code",
   "execution_count": 24,
   "id": "3703ff4f",
   "metadata": {
    "scrolled": false
   },
   "outputs": [
    {
     "name": "stdout",
     "output_type": "stream",
     "text": [
      "Epoch 1/15\n",
      "30/30 [==============================] - 9s 290ms/step - loss: 1.6138 - accuracy: 0.4718 - val_loss: 0.9054 - val_accuracy: 0.6952\n",
      "Epoch 2/15\n",
      "30/30 [==============================] - 9s 283ms/step - loss: 0.6522 - accuracy: 0.8200 - val_loss: 0.5684 - val_accuracy: 0.7905\n",
      "Epoch 3/15\n",
      "30/30 [==============================] - 9s 285ms/step - loss: 0.3682 - accuracy: 0.9084 - val_loss: 0.4057 - val_accuracy: 0.8667\n",
      "Epoch 4/15\n",
      "30/30 [==============================] - 9s 286ms/step - loss: 0.2290 - accuracy: 0.9414 - val_loss: 0.3478 - val_accuracy: 0.8952\n",
      "Epoch 5/15\n",
      "30/30 [==============================] - 9s 289ms/step - loss: 0.1303 - accuracy: 0.9723 - val_loss: 0.2863 - val_accuracy: 0.8952\n",
      "Epoch 6/15\n",
      "30/30 [==============================] - 9s 291ms/step - loss: 0.0706 - accuracy: 0.9894 - val_loss: 0.2522 - val_accuracy: 0.9143\n",
      "Epoch 7/15\n",
      "30/30 [==============================] - 9s 296ms/step - loss: 0.0533 - accuracy: 0.9925 - val_loss: 0.2512 - val_accuracy: 0.9143\n",
      "Epoch 8/15\n",
      "30/30 [==============================] - 9s 287ms/step - loss: 0.0347 - accuracy: 0.9979 - val_loss: 0.2448 - val_accuracy: 0.9048\n",
      "Epoch 9/15\n",
      "30/30 [==============================] - 9s 291ms/step - loss: 0.0197 - accuracy: 1.0000 - val_loss: 0.2470 - val_accuracy: 0.9143\n",
      "Epoch 10/15\n",
      "30/30 [==============================] - 9s 290ms/step - loss: 0.0158 - accuracy: 1.0000 - val_loss: 0.2222 - val_accuracy: 0.9048\n",
      "Epoch 11/15\n",
      "30/30 [==============================] - 9s 289ms/step - loss: 0.0123 - accuracy: 1.0000 - val_loss: 0.2182 - val_accuracy: 0.9143\n",
      "Epoch 12/15\n",
      "30/30 [==============================] - 9s 303ms/step - loss: 0.0098 - accuracy: 1.0000 - val_loss: 0.2136 - val_accuracy: 0.9143\n",
      "Epoch 13/15\n",
      "30/30 [==============================] - 10s 336ms/step - loss: 0.0083 - accuracy: 1.0000 - val_loss: 0.2282 - val_accuracy: 0.9048\n",
      "Epoch 14/15\n",
      "30/30 [==============================] - 9s 303ms/step - loss: 0.0066 - accuracy: 1.0000 - val_loss: 0.2058 - val_accuracy: 0.9238\n",
      "Epoch 15/15\n",
      "30/30 [==============================] - 9s 294ms/step - loss: 0.0059 - accuracy: 1.0000 - val_loss: 0.2087 - val_accuracy: 0.9143\n"
     ]
    },
    {
     "data": {
      "text/plain": [
       "<keras.callbacks.History at 0x193fa6e3e80>"
      ]
     },
     "execution_count": 24,
     "metadata": {},
     "output_type": "execute_result"
    }
   ],
   "source": [
    "model_1.fit(X_train,Y_train,epochs=15,validation_split=0.1)"
   ]
  },
  {
   "cell_type": "code",
   "execution_count": 25,
   "id": "4810460f",
   "metadata": {
    "scrolled": true
   },
   "outputs": [
    {
     "name": "stdout",
     "output_type": "stream",
     "text": [
      "11/11 [==============================] - 1s 71ms/step - loss: 0.2973 - accuracy: 0.9312\n"
     ]
    },
    {
     "data": {
      "text/plain": [
       "[0.2973424792289734, 0.9312320947647095]"
      ]
     },
     "execution_count": 25,
     "metadata": {},
     "output_type": "execute_result"
    }
   ],
   "source": [
    "model_1.evaluate(X_test,Y_test)"
   ]
  }
 ],
 "metadata": {
  "kernelspec": {
   "display_name": "Python 3 (ipykernel)",
   "language": "python",
   "name": "python3"
  },
  "language_info": {
   "codemirror_mode": {
    "name": "ipython",
    "version": 3
   },
   "file_extension": ".py",
   "mimetype": "text/x-python",
   "name": "python",
   "nbconvert_exporter": "python",
   "pygments_lexer": "ipython3",
   "version": "3.9.12"
  }
 },
 "nbformat": 4,
 "nbformat_minor": 5
}
